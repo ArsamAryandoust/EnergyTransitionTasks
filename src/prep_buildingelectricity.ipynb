{
 "cells": [
  {
   "cell_type": "markdown",
   "id": "9db2fad5",
   "metadata": {},
   "source": [
    "# Preparing Building Electricity consumption data\n",
    "---\n",
    "\n",
    "### Overview\n",
    "1. Inspect raw data\n",
    "2. Process building imagery data\n",
    "3. Process meteo and load profile data\n",
    "---\n",
    "\n",
    "We start with importing hyper parameters and modules"
   ]
  },
  {
   "cell_type": "code",
   "execution_count": 1,
   "id": "1ae33201",
   "metadata": {},
   "outputs": [],
   "source": [
    "import hyper_buildingelectricity\n",
    "import prep_building_electricity\n",
    "import pandas as pd\n",
    "\n",
    "HYPER = hyper_buildingelectricity.HyperBuildingElectricity()"
   ]
  },
  {
   "cell_type": "markdown",
   "id": "718b7284",
   "metadata": {},
   "source": [
    "### 1. Inspect raw data"
   ]
  },
  {
   "cell_type": "code",
   "execution_count": null,
   "id": "f7605419",
   "metadata": {
    "scrolled": true
   },
   "outputs": [],
   "source": [
    "df_consumption, df_building_images, df_meteo_dict = prep_building_electricity.import_all_data(HYPER)\n",
    "\n",
    "display(df_consumption)\n",
    "display(df_building_images)\n",
    "display(df_meteo_dict['meteo_1_2014.csv'])"
   ]
  },
  {
   "cell_type": "markdown",
   "id": "13651948",
   "metadata": {},
   "source": [
    "### 2. Process building imagery data"
   ]
  },
  {
   "cell_type": "code",
   "execution_count": null,
   "id": "04f79453",
   "metadata": {
    "scrolled": false
   },
   "outputs": [],
   "source": [
    "prep_building_electricity.process_building_imagery(HYPER, df_building_images)"
   ]
  },
  {
   "cell_type": "markdown",
   "id": "8600481d",
   "metadata": {},
   "source": [
    "### 3. Process meteo and load profile data"
   ]
  },
  {
   "cell_type": "code",
   "execution_count": null,
   "id": "1dd44cb7",
   "metadata": {},
   "outputs": [],
   "source": [
    "prep_building_electricity.process_meteo_and_load_profiles(HYPER, df_consumption, df_meteo_dict)"
   ]
  },
  {
   "cell_type": "code",
   "execution_count": null,
   "id": "30ac8f15",
   "metadata": {},
   "outputs": [],
   "source": []
  },
  {
   "cell_type": "code",
   "execution_count": null,
   "id": "43135f66",
   "metadata": {},
   "outputs": [],
   "source": []
  }
 ],
 "metadata": {
  "kernelspec": {
   "display_name": "Python 3 (ipykernel)",
   "language": "python",
   "name": "python3"
  },
  "language_info": {
   "codemirror_mode": {
    "name": "ipython",
    "version": 3
   },
   "file_extension": ".py",
   "mimetype": "text/x-python",
   "name": "python",
   "nbconvert_exporter": "python",
   "pygments_lexer": "ipython3",
   "version": "3.10.6"
  }
 },
 "nbformat": 4,
 "nbformat_minor": 5
}
