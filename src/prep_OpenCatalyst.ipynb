{
 "cells": [
  {
   "cell_type": "markdown",
   "id": "d1d8ea23",
   "metadata": {},
   "source": [
    "# Prepare Open Catalyst project data into graph format\n",
    "\n",
    "---\n",
    "\n",
    "### Overview\n",
    "1. Inspect raw data\n",
    "---"
   ]
  },
  {
   "cell_type": "code",
   "execution_count": 1,
   "id": "92980fbe",
   "metadata": {},
   "outputs": [],
   "source": [
    "import hyper\n",
    "import prep_open_catalyst\n",
    "\n",
    "HYPER = hyper.HyperParameter()"
   ]
  },
  {
   "cell_type": "markdown",
   "id": "1ab6ebb1",
   "metadata": {},
   "source": [
    "### 1. Inspect raw data"
   ]
  },
  {
   "cell_type": "code",
   "execution_count": 2,
   "id": "ffecb90d",
   "metadata": {},
   "outputs": [
    {
     "name": "stdout",
     "output_type": "stream",
     "text": [
      "{'psize': 4096, 'depth': 0, 'branch_pages': 0, 'leaf_pages': 0, 'overflow_pages': 0, 'entries': 0}\n"
     ]
    }
   ],
   "source": [
    "lmdb_env = prep_open_catalyst.import_raw_data_samples(HYPER)"
   ]
  },
  {
   "cell_type": "code",
   "execution_count": null,
   "id": "f400d6fa",
   "metadata": {},
   "outputs": [],
   "source": []
  },
  {
   "cell_type": "code",
   "execution_count": null,
   "id": "27dd836a",
   "metadata": {},
   "outputs": [],
   "source": []
  },
  {
   "cell_type": "code",
   "execution_count": null,
   "id": "40b548e7",
   "metadata": {},
   "outputs": [],
   "source": []
  },
  {
   "cell_type": "code",
   "execution_count": 3,
   "id": "7826127b",
   "metadata": {},
   "outputs": [
    {
     "data": {
      "text/plain": [
       "<Environment at 0x7f6a142bc450>"
      ]
     },
     "execution_count": 3,
     "metadata": {},
     "output_type": "execute_result"
    }
   ],
   "source": [
    "lmdb_env"
   ]
  },
  {
   "cell_type": "code",
   "execution_count": 4,
   "id": "9101f31c",
   "metadata": {},
   "outputs": [],
   "source": [
    "lmdb_txn = lmdb_env.begin()\n",
    "lmdb_cursor = lmdb_txn.cursor()"
   ]
  },
  {
   "cell_type": "code",
   "execution_count": 5,
   "id": "fc28771b",
   "metadata": {},
   "outputs": [
    {
     "data": {
      "text/plain": [
       "<Transaction at 0x7f6a142c8340>"
      ]
     },
     "execution_count": 5,
     "metadata": {},
     "output_type": "execute_result"
    }
   ],
   "source": [
    "lmdb_txn"
   ]
  },
  {
   "cell_type": "code",
   "execution_count": 6,
   "id": "51f16cf6",
   "metadata": {},
   "outputs": [
    {
     "data": {
      "text/plain": [
       "<Cursor at 0x7f6a142b9130>"
      ]
     },
     "execution_count": 6,
     "metadata": {},
     "output_type": "execute_result"
    }
   ],
   "source": [
    "lmdb_cursor"
   ]
  },
  {
   "cell_type": "code",
   "execution_count": 7,
   "id": "2f26a421",
   "metadata": {},
   "outputs": [],
   "source": [
    "for key, value in lmdb_cursor:\n",
    "    print(key, value)"
   ]
  },
  {
   "cell_type": "code",
   "execution_count": 8,
   "id": "9078cf29",
   "metadata": {},
   "outputs": [
    {
     "data": {
      "text/plain": [
       "{'psize': 4096,\n",
       " 'depth': 0,\n",
       " 'branch_pages': 0,\n",
       " 'leaf_pages': 0,\n",
       " 'overflow_pages': 0,\n",
       " 'entries': 0}"
      ]
     },
     "execution_count": 8,
     "metadata": {},
     "output_type": "execute_result"
    }
   ],
   "source": [
    "lmdb_env.stat()"
   ]
  },
  {
   "cell_type": "code",
   "execution_count": null,
   "id": "4a092a1e",
   "metadata": {},
   "outputs": [],
   "source": []
  }
 ],
 "metadata": {
  "kernelspec": {
   "display_name": "Python 3 (ipykernel)",
   "language": "python",
   "name": "python3"
  },
  "language_info": {
   "codemirror_mode": {
    "name": "ipython",
    "version": 3
   },
   "file_extension": ".py",
   "mimetype": "text/x-python",
   "name": "python",
   "nbconvert_exporter": "python",
   "pygments_lexer": "ipython3",
   "version": "3.10.6"
  }
 },
 "nbformat": 4,
 "nbformat_minor": 5
}
